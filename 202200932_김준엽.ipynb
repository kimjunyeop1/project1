{
  "nbformat": 4,
  "nbformat_minor": 0,
  "metadata": {
    "colab": {
      "provenance": [],
      "authorship_tag": "ABX9TyNbXQtSU7bAfzMLMrQBbUSg",
      "include_colab_link": true
    },
    "kernelspec": {
      "name": "python3",
      "display_name": "Python 3"
    },
    "language_info": {
      "name": "python"
    }
  },
  "cells": [
    {
      "cell_type": "markdown",
      "metadata": {
        "id": "view-in-github",
        "colab_type": "text"
      },
      "source": [
        "<a href=\"https://colab.research.google.com/github/kimjunyeop1/project1/blob/main/202200932_%EA%B9%80%EC%A4%80%EC%97%BD.ipynb\" target=\"_parent\"><img src=\"https://colab.research.google.com/assets/colab-badge.svg\" alt=\"Open In Colab\"/></a>"
      ]
    },
    {
      "cell_type": "code",
      "execution_count": null,
      "metadata": {
        "colab": {
          "base_uri": "https://localhost:8080/"
        },
        "id": "_tl0oY9wOmWx",
        "outputId": "5e0150e8-57ca-4ba0-802e-3a6f909ee3a4"
      },
      "outputs": [
        {
          "output_type": "stream",
          "name": "stdout",
          "text": [
            "Downloading data from https://storage.googleapis.com/tensorflow/tf-keras-datasets/train-labels-idx1-ubyte.gz\n",
            "29515/29515 [==============================] - 0s 0us/step\n",
            "Downloading data from https://storage.googleapis.com/tensorflow/tf-keras-datasets/train-images-idx3-ubyte.gz\n",
            "26421880/26421880 [==============================] - 0s 0us/step\n",
            "Downloading data from https://storage.googleapis.com/tensorflow/tf-keras-datasets/t10k-labels-idx1-ubyte.gz\n",
            "5148/5148 [==============================] - 0s 0us/step\n",
            "Downloading data from https://storage.googleapis.com/tensorflow/tf-keras-datasets/t10k-images-idx3-ubyte.gz\n",
            "4422102/4422102 [==============================] - 0s 0us/step\n"
          ]
        }
      ],
      "source": [
        "from tensorflow.keras.models import Sequential\n",
        "from tensorflow.keras.layers import Dense, Dropout, Flatten, Conv2D, MaxPooling2D\n",
        "from tensorflow.keras.callbacks import ModelCheckpoint,EarlyStopping\n",
        "from tensorflow.keras.datasets import mnist\n",
        "from tensorflow.keras.utils import to_categorical\n",
        "\n",
        "import tensorflow as tf\n",
        "import matplotlib.pyplot as plt\n",
        "import numpy as np\n",
        "\n",
        "import os\n",
        "\n",
        "\n",
        "fashion_mnist = tf.keras.datasets.fashion_mnist\n",
        "\n",
        "(X_train, y_train), (X_test, y_test) = fashion_mnist.load_data()"
      ]
    },
    {
      "cell_type": "code",
      "source": [
        "type(X_train)"
      ],
      "metadata": {
        "colab": {
          "base_uri": "https://localhost:8080/"
        },
        "id": "fD_wECnEPBf7",
        "outputId": "96f4e93d-105d-4b84-fbd3-51c2842b9ba0"
      },
      "execution_count": null,
      "outputs": [
        {
          "output_type": "execute_result",
          "data": {
            "text/plain": [
              "numpy.ndarray"
            ]
          },
          "metadata": {},
          "execution_count": 4
        }
      ]
    },
    {
      "cell_type": "code",
      "source": [
        "print(X_train.shape)"
      ],
      "metadata": {
        "colab": {
          "base_uri": "https://localhost:8080/"
        },
        "id": "xvarEybfPLc1",
        "outputId": "7304abfd-0d10-498d-9fe9-fb1a4521923b"
      },
      "execution_count": null,
      "outputs": [
        {
          "output_type": "stream",
          "name": "stdout",
          "text": [
            "(60000, 28, 28)\n"
          ]
        }
      ]
    },
    {
      "cell_type": "code",
      "source": [
        "plt.imshow(X_train[2437], cmap='Greys')\n",
        "plt.show()"
      ],
      "metadata": {
        "colab": {
          "base_uri": "https://localhost:8080/",
          "height": 265
        },
        "id": "zfWl1YqePQyR",
        "outputId": "73d890c1-b86c-488d-c656-f71bc31c690a"
      },
      "execution_count": null,
      "outputs": [
        {
          "output_type": "display_data",
          "data": {
            "text/plain": [
              "<Figure size 432x288 with 1 Axes>"
            ],
            "image/png": "[encoded data removed]"
          },
          "metadata": {
            "needs_background": "light"
          }
        }
      ]
    },
    {
      "cell_type": "code",
      "source": [
        "import sys\n",
        "\n",
        "for x in X_train[2437]:\n",
        "    for i in x:\n",
        "        sys.stdout.write(\"%-3s\" % i)\n",
        "    sys.stdout.write('\\n')"
      ],
      "metadata": {
        "colab": {
          "base_uri": "https://localhost:8080/"
        },
        "id": "5oMpMfRVPcPQ",
        "outputId": "c1a6f9c3-eb58-416b-9ef8-a520ea57e8df"
      },
      "execution_count": null,
      "outputs": [
        {
          "output_type": "stream",
          "name": "stdout",
          "text": [
            "0  0  0  0  0  0  0  0  0  0  6  13114896 10211115596 0  0  0  0  0  0  0  0  0  0  \n",
            "0  0  0  0  0  0  0  24 78 12411813322522322122022416011310561 10 0  0  0  0  0  0  \n",
            "0  0  0  0  0  0  10612912310292 69 13322725523615165 96 11012813685 0  0  0  0  0  \n",
            "0  0  0  0  0  77 12789 92 92 97 95 68 84 16299 68 89 99 99 88 94 13975 0  0  0  0  \n",
            "0  0  0  0  9  12610296 95 91 96 96 97 85 68 83 10099 1031001001001061269  0  0  0  \n",
            "0  0  0  0  46 12798 97 98 92 95 94 94 94 98 99 96 96 91 95 10310196 13548 0  0  0  \n",
            "0  0  0  0  88 12410397 99 95 95 95 95 95 91 95 95 89 13010094 98 1081251010  0  0  \n",
            "0  0  0  0  11811112198 97 97 97 97 97 97 98 10010189 13011195 1001251181270  0  0  \n",
            "0  0  0  22 12899 14310197 10310197 99 98 98 99 10010088 10110310412911413035 0  0  \n",
            "0  0  0  65 13710213111487 10210810410510410110210310110611189 11512610411563 0  0  \n",
            "0  0  0  83 14211714516782 10610510110099 99 10099 10410611188 1401311211431100  0  \n",
            "0  0  0  0  0  32 11992 76 10210510010098 99 10099 10510610588 15415987 47 3  0  0  \n",
            "0  0  0  0  0  0  0  0  10010410496 10298 10010099 10110694 1180  0  0  0  0  0  0  \n",
            "0  0  0  0  1  2  0  0  10611196 10210510010110199 10311096 11710 0  1  2  1  0  0  \n",
            "0  0  0  0  0  0  0  0  91 11390 10610210110110210210310998 11310 0  2  0  0  0  0  \n",
            "0  0  0  0  0  0  0  0  86 11291 10999 10310310299 10010695 1054  0  1  0  0  0  0  \n",
            "0  0  0  0  0  0  0  0  88 10696 10498 10110110199 1051081031100  0  1  0  0  0  0  \n",
            "0  0  0  0  0  0  0  0  87 10610810099 10110010210210599 1001000  0  1  0  0  0  0  \n",
            "0  0  0  0  0  0  0  0  83 10911096 10399 10410398 1021041001054  0  2  0  0  0  0  \n",
            "0  0  0  0  0  0  0  0  79 12110294 10399 10210310310410495 10912 0  1  0  0  0  0  \n",
            "0  0  0  0  0  0  0  0  85 12794 10010110210110110310310392 11016 0  1  0  0  0  0  \n",
            "0  0  0  0  0  0  0  0  10311589 10210010210310310210410696 11216 0  2  0  0  0  0  \n",
            "0  0  0  0  0  0  0  0  11897 97 99 10210210510310210310595 11114 0  1  0  0  0  0  \n",
            "0  0  0  0  0  1  0  3  11785 10198 10010210310810310210591 11025 0  1  0  0  0  0  \n",
            "0  0  0  0  0  1  0  11 11097 10310110210410110810010110591 10933 0  1  0  0  0  0  \n",
            "0  0  0  0  0  1  0  20 10895 97 97 98 98 10010310010310291 10338 0  1  0  0  0  0  \n",
            "0  0  0  0  0  2  0  19 12910811211511511311411310911211010111148 0  1  0  0  0  0  \n",
            "0  0  0  0  0  1  0  0  79 72 75 72 71 77 83 91 92 92 91 82 96 30 0  3  0  0  0  0  \n"
          ]
        }
      ]
    },
    {
      "cell_type": "code",
      "source": [
        "X_train = X_train.reshape(X_train.shape[0], 28, 28, 1).astype('float32') / 255\n",
        "X_test = X_test.reshape(X_test.shape[0], 28, 28, 1).astype('float32') / 255\n",
        "y_train = to_categorical(y_train)\n",
        "y_test = to_categorical(y_test)"
      ],
      "metadata": {
        "id": "AJZ6d-BPP1RW"
      },
      "execution_count": null,
      "outputs": []
    },
    {
      "cell_type": "code",
      "source": [
        "y_train[257]"
      ],
      "metadata": {
        "colab": {
          "base_uri": "https://localhost:8080/"
        },
        "id": "1WY4RQ5RP9a_",
        "outputId": "f6608e82-51f4-4265-8c94-adb5fdcd9c65"
      },
      "execution_count": null,
      "outputs": [
        {
          "output_type": "execute_result",
          "data": {
            "text/plain": [
              "array([0., 0., 0., 0., 0., 1., 0., 0., 0., 0.], dtype=float32)"
            ]
          },
          "metadata": {},
          "execution_count": 9
        }
      ]
    },
    {
      "cell_type": "code",
      "source": [
        "type(y_train)"
      ],
      "metadata": {
        "colab": {
          "base_uri": "https://localhost:8080/"
        },
        "id": "zuMhqS9vQMxI",
        "outputId": "0d02b66e-f290-4d78-86c8-2502acc8d879"
      },
      "execution_count": null,
      "outputs": [
        {
          "output_type": "execute_result",
          "data": {
            "text/plain": [
              "numpy.ndarray"
            ]
          },
          "metadata": {},
          "execution_count": 10
        }
      ]
    },
    {
      "cell_type": "code",
      "source": [
        "\n",
        "model = Sequential()\n",
        "model.add(Conv2D(32, kernel_size=(3, 3), input_shape=(28, 28, 1), activation='relu'))\n",
        "model.add(Conv2D(64, (3, 3), activation='relu'))\n",
        "model.add(MaxPooling2D(pool_size=(2,2)))\n",
        "model.add(Dropout(0.25))\n",
        "model.add(Flatten())\n",
        "model.add(Dense(64,  activation='relu'))\n",
        "model.add(Dropout(0.1))\n",
        "model.add(Dense(128,  activation='relu'))\n",
        "model.add(Dropout(0.15))\n",
        "model.add(Dense(10, activation='softmax'))\n",
        "\n",
        "\n",
        "model.compile(loss='categorical_crossentropy',\n",
        "              optimizer='adam',\n",
        "              metrics=['accuracy'])\n",
        "\n",
        "\n",
        "modelpath=\"./data/model/MNIST_CNN.hdf5\"\n",
        "\n",
        "\n",
        "checkpointer = ModelCheckpoint(filepath=modelpath, monitor='val_loss', verbose=1, save_best_only=True)\n",
        "early_stopping_callback = EarlyStopping(monitor='val_loss', patience=10)\n",
        "\n",
        "\n",
        "history = model.fit(X_train, y_train, validation_split=0.25, epochs=30, batch_size=200, verbose=0, callbacks=[early_stopping_callback,checkpointer])\n",
        "\n",
        "\n",
        "print(\"\\n Test Accuracy: %.4f\" % (model.evaluate(X_test, y_test)[1]))\n"
      ],
      "metadata": {
        "colab": {
          "base_uri": "https://localhost:8080/"
        },
        "id": "U27_g-NjQlSv",
        "outputId": "02b8a0ee-845c-44d9-f772-ff669111b921"
      },
      "execution_count": null,
      "outputs": [
        {
          "output_type": "stream",
          "name": "stdout",
          "text": [
            "\n",
            "Epoch 1: val_loss improved from inf to 0.37235, saving model to ./data/model/MNIST_CNN.hdf5\n",
            "\n",
            "Epoch 2: val_loss improved from 0.37235 to 0.31467, saving model to ./data/model/MNIST_CNN.hdf5\n",
            "\n",
            "Epoch 3: val_loss improved from 0.31467 to 0.28453, saving model to ./data/model/MNIST_CNN.hdf5\n",
            "\n",
            "Epoch 4: val_loss improved from 0.28453 to 0.27370, saving model to ./data/model/MNIST_CNN.hdf5\n",
            "\n",
            "Epoch 5: val_loss improved from 0.27370 to 0.26259, saving model to ./data/model/MNIST_CNN.hdf5\n",
            "\n",
            "Epoch 6: val_loss improved from 0.26259 to 0.23130, saving model to ./data/model/MNIST_CNN.hdf5\n",
            "\n",
            "Epoch 7: val_loss improved from 0.23130 to 0.22921, saving model to ./data/model/MNIST_CNN.hdf5\n",
            "\n",
            "Epoch 8: val_loss improved from 0.22921 to 0.22692, saving model to ./data/model/MNIST_CNN.hdf5\n",
            "\n",
            "Epoch 9: val_loss did not improve from 0.22692\n",
            "\n",
            "Epoch 10: val_loss improved from 0.22692 to 0.21945, saving model to ./data/model/MNIST_CNN.hdf5\n",
            "\n",
            "Epoch 11: val_loss did not improve from 0.21945\n",
            "\n",
            "Epoch 12: val_loss did not improve from 0.21945\n",
            "\n",
            "Epoch 13: val_loss did not improve from 0.21945\n",
            "\n",
            "Epoch 14: val_loss did not improve from 0.21945\n",
            "\n",
            "Epoch 15: val_loss did not improve from 0.21945\n",
            "\n",
            "Epoch 16: val_loss did not improve from 0.21945\n",
            "\n",
            "Epoch 17: val_loss did not improve from 0.21945\n",
            "\n",
            "Epoch 18: val_loss did not improve from 0.21945\n",
            "\n",
            "Epoch 19: val_loss did not improve from 0.21945\n",
            "\n",
            "Epoch 20: val_loss did not improve from 0.21945\n",
            "313/313 [==============================] - 7s 23ms/step - loss: 0.2904 - accuracy: 0.9216\n",
            "\n",
            " Test Accuracy: 0.9216\n"
          ]
        }
      ]
    },
    {
      "cell_type": "code",
      "source": [
        "y_vloss = history.history['val_loss']\n",
        "y_loss = history.history['loss']\n",
        "\n",
        "x_len = np.arange(len(y_loss))\n",
        "plt.plot(x_len, y_vloss, marker='.', c=\"red\", label='Testset_loss')\n",
        "plt.plot(x_len, y_loss, marker='.', c=\"blue\", label='Trainset_loss')\n",
        "\n",
        "\n",
        "plt.legend(loc='upper right')\n",
        "plt.grid()\n",
        "plt.xlabel('epoch')\n",
        "plt.ylabel('loss')\n",
        "plt.show()"
      ],
      "metadata": {
        "colab": {
          "base_uri": "https://localhost:8080/",
          "height": 279
        },
        "id": "fSBfUYhsr6A2",
        "outputId": "273f5a9b-09bf-4569-def9-03e81a474407"
      },
      "execution_count": null,
      "outputs": [
        {
          "output_type": "display_data",
          "data": {
            "text/plain": [
              "<Figure size 432x288 with 1 Axes>"
            ],
            "image/png": "[encoded data removed]"
          },
          "metadata": {
            "needs_background": "light"
          }
        }
      ]
    }
  ]
}