{
  "nbformat": 4,
  "nbformat_minor": 0,
  "metadata": {
    "colab": {
      "provenance": [],
      "collapsed_sections": [],
      "authorship_tag": "ABX9TyPsr20iMIwavUhya71rpuEB",
      "include_colab_link": true
    },
    "kernelspec": {
      "name": "python3",
      "display_name": "Python 3"
    },
    "language_info": {
      "name": "python"
    }
  },
  "cells": [
    {
      "cell_type": "markdown",
      "metadata": {
        "id": "view-in-github",
        "colab_type": "text"
      },
      "source": [
        "<a href=\"https://colab.research.google.com/github/kimjunyeop1/project1/blob/main/Untitled2.ipynb\" target=\"_parent\"><img src=\"https://colab.research.google.com/assets/colab-badge.svg\" alt=\"Open In Colab\"/></a>"
      ]
    },
    {
      "cell_type": "code",
      "execution_count": null,
      "metadata": {
        "colab": {
          "base_uri": "https://localhost:8080/"
        },
        "id": "iUe0VbOHzSEe",
        "outputId": "9903447e-ee01-4711-8682-6d6cfbb8d4d7"
      },
      "outputs": [
        {
          "output_type": "stream",
          "name": "stdout",
          "text": [
            "자연수 한개를 입력하세요.\n",
            "31\n",
            "계속입력을 원하시면, 자연수 한 개를입력하시고, 아니라면 0을 입력하세요.\n",
            "22\n",
            "계속입력을 원하시면, 자연수 한 개를입력하시고, 아니라면 0을 입력하세요.\n",
            "34\n",
            "계속입력을 원하시면, 자연수 한 개를입력하시고, 아니라면 0을 입력하세요.\n",
            "55\n",
            "계속입력을 원하시면, 자연수 한 개를입력하시고, 아니라면 0을 입력하세요.\n",
            "0\n",
            "당신이 입력한 숫자는 큰것부터 순서대로 말한다면 아래와 같습니다.\n",
            "31,22,34,55\n"
          ]
        }
      ],
      "source": [
        "#202200932 김준엽\n",
        "a = list()\n",
        "print(\"자연수 한개를 입력하세요.\")\n",
        "bb = int(input())\n",
        "a.append(bb)\n",
        "while(1):\n",
        "    print(\"계속입력을 원하시면, 자연수 한 개를입력하시고, 아니라면 0을 입력하세요.\")\n",
        "    b = int(input())\n",
        "    if(b==0):\n",
        "        break\n",
        "    elif(len(a)==100):\n",
        "        print(\"이제그만하세요.벌써 100개를 입력했어요\")\n",
        "        break;\n",
        "    a.append(b)\n",
        "#정렬 알아서 하십쇼\n",
        "\n",
        "print(\"당신이 입력한 숫자는 큰것부터 순서대로 말한다면 아래와 같습니다.\")\n",
        "for i in range(len(a)-1):\n",
        "    print(a[i],end=\",\")\n",
        "print(a[len(a)-1])"
      ]
    },
    {
      "cell_type": "code",
      "source": [
        "#202200932 김준엽\n",
        "n = int(input())\n",
        "a = 0\n",
        "\n",
        "if n >= 31 :\n",
        "  print(\"너무 많습니다.\")\n",
        "else :\n",
        "  while a < n :\n",
        "    b='*'*a\n",
        "    c=str(a+1)\n",
        "    print(b+c)\n",
        "    a+=1"
      ],
      "metadata": {
        "colab": {
          "base_uri": "https://localhost:8080/"
        },
        "id": "rId1sfyFaATD",
        "outputId": "4ef30af3-a8ac-436d-e74b-411288b22174"
      },
      "execution_count": null,
      "outputs": [
        {
          "output_type": "stream",
          "name": "stdout",
          "text": [
            "7\n",
            "1\n",
            "*2\n",
            "**3\n",
            "***4\n",
            "****5\n",
            "*****6\n",
            "******7\n"
          ]
        }
      ]
    }
  ]
}